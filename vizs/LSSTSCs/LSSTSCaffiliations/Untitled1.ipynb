{
 "cells": [
  {
   "cell_type": "code",
   "execution_count": 1,
   "metadata": {
    "ExecuteTime": {
     "end_time": "2018-01-13T15:14:57.389080",
     "start_time": "2018-01-13T15:14:55.481176"
    },
    "collapsed": false,
    "run_control": {
     "frozen": false,
     "read_only": false
    }
   },
   "outputs": [
    {
     "name": "stdout",
     "output_type": "stream",
     "text": [
      "Populating the interactive namespace from numpy and matplotlib\n"
     ]
    }
   ],
   "source": [
    "import pandas as pd\n",
    "import numpy as np\n",
    "import pylab as pl\n",
    "import itertools\n",
    "\n",
    "%pylab inline"
   ]
  },
  {
   "cell_type": "code",
   "execution_count": 2,
   "metadata": {
    "ExecuteTime": {
     "end_time": "2018-01-13T15:14:57.407891",
     "start_time": "2018-01-13T15:14:57.392582"
    },
    "collapsed": false
   },
   "outputs": [],
   "source": [
    "affiliations = pd.read_csv(\"SC-List.csv\")"
   ]
  },
  {
   "cell_type": "code",
   "execution_count": 3,
   "metadata": {
    "ExecuteTime": {
     "end_time": "2018-01-13T15:14:57.449557",
     "start_time": "2018-01-13T15:14:57.414453"
    },
    "collapsed": false
   },
   "outputs": [
    {
     "data": {
      "text/html": [
       "<div>\n",
       "<table border=\"1\" class=\"dataframe\">\n",
       "  <thead>\n",
       "    <tr style=\"text-align: right;\">\n",
       "      <th></th>\n",
       "      <th>First Name</th>\n",
       "      <th>Last Name</th>\n",
       "      <th>Email</th>\n",
       "      <th>Telephone</th>\n",
       "      <th>Company</th>\n",
       "      <th>Contact Category</th>\n",
       "      <th>Role</th>\n",
       "    </tr>\n",
       "  </thead>\n",
       "  <tbody>\n",
       "    <tr>\n",
       "      <th>0</th>\n",
       "      <td>Alexandra</td>\n",
       "      <td>Abate</td>\n",
       "      <td>abate@email.arizona.edu</td>\n",
       "      <td>NaN</td>\n",
       "      <td>University of Arizona</td>\n",
       "      <td>DESC</td>\n",
       "      <td>Member</td>\n",
       "    </tr>\n",
       "    <tr>\n",
       "      <th>1</th>\n",
       "      <td>Alexandra</td>\n",
       "      <td>Abate</td>\n",
       "      <td>abate@email.arizona.edu</td>\n",
       "      <td>NaN</td>\n",
       "      <td>University of Arizona</td>\n",
       "      <td>Weak Lensing</td>\n",
       "      <td>Affiliate</td>\n",
       "    </tr>\n",
       "    <tr>\n",
       "      <th>2</th>\n",
       "      <td>Ghaleb</td>\n",
       "      <td>Abdulla</td>\n",
       "      <td>abdulla1@llnl.gov</td>\n",
       "      <td>925-423-5947</td>\n",
       "      <td>Lawrence Livermore National Laboratory</td>\n",
       "      <td>Transients</td>\n",
       "      <td>Member</td>\n",
       "    </tr>\n",
       "    <tr>\n",
       "      <th>3</th>\n",
       "      <td>Paul Alexander</td>\n",
       "      <td>Abell</td>\n",
       "      <td>paul.a.abell@nasa.gov</td>\n",
       "      <td>281-483-0293</td>\n",
       "      <td>NASA Johnson Space Center</td>\n",
       "      <td>Solar System</td>\n",
       "      <td>Member</td>\n",
       "    </tr>\n",
       "    <tr>\n",
       "      <th>4</th>\n",
       "      <td>Eric</td>\n",
       "      <td>Agol</td>\n",
       "      <td>agol@astro.washington.edu</td>\n",
       "      <td>NaN</td>\n",
       "      <td>University of Washington</td>\n",
       "      <td>Strong Lensing</td>\n",
       "      <td>Affiliate</td>\n",
       "    </tr>\n",
       "  </tbody>\n",
       "</table>\n",
       "</div>"
      ],
      "text/plain": [
       "       First Name Last Name                      Email     Telephone  \\\n",
       "0       Alexandra     Abate    abate@email.arizona.edu           NaN   \n",
       "1       Alexandra     Abate    abate@email.arizona.edu           NaN   \n",
       "2          Ghaleb   Abdulla          abdulla1@llnl.gov  925-423-5947   \n",
       "3  Paul Alexander     Abell      paul.a.abell@nasa.gov  281-483-0293   \n",
       "4            Eric      Agol  agol@astro.washington.edu           NaN   \n",
       "\n",
       "                                  Company Contact Category       Role  \n",
       "0                   University of Arizona            DESC      Member  \n",
       "1                   University of Arizona     Weak Lensing  Affiliate  \n",
       "2  Lawrence Livermore National Laboratory       Transients     Member  \n",
       "3               NASA Johnson Space Center     Solar System     Member  \n",
       "4                University of Washington   Strong Lensing  Affiliate  "
      ]
     },
     "execution_count": 3,
     "metadata": {},
     "output_type": "execute_result"
    }
   ],
   "source": [
    "affiliations.head()"
   ]
  },
  {
   "cell_type": "code",
   "execution_count": 4,
   "metadata": {
    "ExecuteTime": {
     "end_time": "2018-01-13T15:14:57.525637",
     "start_time": "2018-01-13T15:14:57.454257"
    },
    "collapsed": false
   },
   "outputs": [
    {
     "data": {
      "text/html": [
       "<div>\n",
       "<table border=\"1\" class=\"dataframe\">\n",
       "  <thead>\n",
       "    <tr style=\"text-align: right;\">\n",
       "      <th></th>\n",
       "      <th>First Name</th>\n",
       "      <th>Last Name</th>\n",
       "      <th>Email</th>\n",
       "      <th>Telephone</th>\n",
       "      <th>Company</th>\n",
       "      <th>Contact Category</th>\n",
       "      <th>Role</th>\n",
       "    </tr>\n",
       "  </thead>\n",
       "  <tbody>\n",
       "    <tr>\n",
       "      <th>count</th>\n",
       "      <td>1061</td>\n",
       "      <td>1060</td>\n",
       "      <td>1060</td>\n",
       "      <td>546</td>\n",
       "      <td>95</td>\n",
       "      <td>1060</td>\n",
       "      <td>1060</td>\n",
       "    </tr>\n",
       "    <tr>\n",
       "      <th>unique</th>\n",
       "      <td>534</td>\n",
       "      <td>769</td>\n",
       "      <td>812</td>\n",
       "      <td>360</td>\n",
       "      <td>58</td>\n",
       "      <td>17</td>\n",
       "      <td>2</td>\n",
       "    </tr>\n",
       "    <tr>\n",
       "      <th>top</th>\n",
       "      <td>Michael</td>\n",
       "      <td>Ivezic</td>\n",
       "      <td>ivezic@astro.washington.edu</td>\n",
       "      <td>206-543-9487</td>\n",
       "      <td>University of Washington</td>\n",
       "      <td>Transients</td>\n",
       "      <td>Member</td>\n",
       "    </tr>\n",
       "    <tr>\n",
       "      <th>freq</th>\n",
       "      <td>32</td>\n",
       "      <td>11</td>\n",
       "      <td>11</td>\n",
       "      <td>12</td>\n",
       "      <td>8</td>\n",
       "      <td>201</td>\n",
       "      <td>931</td>\n",
       "    </tr>\n",
       "  </tbody>\n",
       "</table>\n",
       "</div>"
      ],
      "text/plain": [
       "       First Name Last Name                        Email     Telephone  \\\n",
       "count        1061      1060                         1060           546   \n",
       "unique        534       769                          812           360   \n",
       "top       Michael    Ivezic  ivezic@astro.washington.edu  206-543-9487   \n",
       "freq           32        11                           11            12   \n",
       "\n",
       "                         Company Contact Category    Role  \n",
       "count                         95             1060    1060  \n",
       "unique                        58               17       2  \n",
       "top     University of Washington       Transients  Member  \n",
       "freq                           8              201     931  "
      ]
     },
     "execution_count": 4,
     "metadata": {},
     "output_type": "execute_result"
    }
   ],
   "source": [
    "affiliations.describe()"
   ]
  },
  {
   "cell_type": "code",
   "execution_count": 5,
   "metadata": {
    "ExecuteTime": {
     "end_time": "2018-01-13T15:14:57.607674",
     "start_time": "2018-01-13T15:14:57.532975"
    },
    "collapsed": false
   },
   "outputs": [
    {
     "data": {
      "text/html": [
       "<div>\n",
       "<table border=\"1\" class=\"dataframe\">\n",
       "  <thead>\n",
       "    <tr style=\"text-align: right;\">\n",
       "      <th></th>\n",
       "      <th>First Name</th>\n",
       "      <th>Last Name</th>\n",
       "      <th>Email</th>\n",
       "      <th>Telephone</th>\n",
       "      <th>Company</th>\n",
       "      <th>Contact Category</th>\n",
       "      <th>Role</th>\n",
       "    </tr>\n",
       "  </thead>\n",
       "  <tbody>\n",
       "    <tr>\n",
       "      <th>count</th>\n",
       "      <td>1032</td>\n",
       "      <td>1031</td>\n",
       "      <td>1031</td>\n",
       "      <td>527</td>\n",
       "      <td>93</td>\n",
       "      <td>1031</td>\n",
       "      <td>1031</td>\n",
       "    </tr>\n",
       "    <tr>\n",
       "      <th>unique</th>\n",
       "      <td>534</td>\n",
       "      <td>769</td>\n",
       "      <td>812</td>\n",
       "      <td>360</td>\n",
       "      <td>58</td>\n",
       "      <td>17</td>\n",
       "      <td>2</td>\n",
       "    </tr>\n",
       "    <tr>\n",
       "      <th>top</th>\n",
       "      <td>Michael</td>\n",
       "      <td>Jones</td>\n",
       "      <td>ljones.uw@gmail.com</td>\n",
       "      <td>206-543-9487</td>\n",
       "      <td>University of Washington</td>\n",
       "      <td>Transients</td>\n",
       "      <td>Member</td>\n",
       "    </tr>\n",
       "    <tr>\n",
       "      <th>freq</th>\n",
       "      <td>31</td>\n",
       "      <td>10</td>\n",
       "      <td>10</td>\n",
       "      <td>12</td>\n",
       "      <td>8</td>\n",
       "      <td>188</td>\n",
       "      <td>918</td>\n",
       "    </tr>\n",
       "  </tbody>\n",
       "</table>\n",
       "</div>"
      ],
      "text/plain": [
       "       First Name Last Name                Email     Telephone  \\\n",
       "count        1032      1031                 1031           527   \n",
       "unique        534       769                  812           360   \n",
       "top       Michael     Jones  ljones.uw@gmail.com  206-543-9487   \n",
       "freq           31        10                   10            12   \n",
       "\n",
       "                         Company Contact Category    Role  \n",
       "count                         93             1031    1031  \n",
       "unique                        58               17       2  \n",
       "top     University of Washington       Transients  Member  \n",
       "freq                           8              188     918  "
      ]
     },
     "execution_count": 5,
     "metadata": {},
     "output_type": "execute_result"
    }
   ],
   "source": [
    "affiliations.drop_duplicates(inplace=True)\n",
    "affiliations.describe()"
   ]
  },
  {
   "cell_type": "code",
   "execution_count": 6,
   "metadata": {
    "ExecuteTime": {
     "end_time": "2018-01-13T15:14:57.627871",
     "start_time": "2018-01-13T15:14:57.613804"
    },
    "collapsed": false
   },
   "outputs": [
    {
     "data": {
      "text/plain": [
       "92"
      ]
     },
     "execution_count": 6,
     "metadata": {},
     "output_type": "execute_result"
    }
   ],
   "source": [
    "(affiliations[\"Contact Category\"] == 'DESC').sum()"
   ]
  },
  {
   "cell_type": "code",
   "execution_count": 7,
   "metadata": {
    "ExecuteTime": {
     "end_time": "2018-01-13T15:14:57.704488",
     "start_time": "2018-01-13T15:14:57.633054"
    },
    "collapsed": false
   },
   "outputs": [
    {
     "data": {
      "text/html": [
       "<div>\n",
       "<table border=\"1\" class=\"dataframe\">\n",
       "  <thead>\n",
       "    <tr style=\"text-align: right;\">\n",
       "      <th></th>\n",
       "      <th>First Name</th>\n",
       "      <th>Last Name</th>\n",
       "      <th>Email</th>\n",
       "      <th>Telephone</th>\n",
       "      <th>Company</th>\n",
       "      <th>Contact Category</th>\n",
       "      <th>Role</th>\n",
       "    </tr>\n",
       "  </thead>\n",
       "  <tbody>\n",
       "    <tr>\n",
       "      <th>count</th>\n",
       "      <td>1031</td>\n",
       "      <td>1031</td>\n",
       "      <td>1031</td>\n",
       "      <td>527</td>\n",
       "      <td>93</td>\n",
       "      <td>1031</td>\n",
       "      <td>1031</td>\n",
       "    </tr>\n",
       "    <tr>\n",
       "      <th>unique</th>\n",
       "      <td>533</td>\n",
       "      <td>769</td>\n",
       "      <td>812</td>\n",
       "      <td>360</td>\n",
       "      <td>58</td>\n",
       "      <td>17</td>\n",
       "      <td>2</td>\n",
       "    </tr>\n",
       "    <tr>\n",
       "      <th>top</th>\n",
       "      <td>Michael</td>\n",
       "      <td>Jones</td>\n",
       "      <td>ljones.uw@gmail.com</td>\n",
       "      <td>206-543-9487</td>\n",
       "      <td>University of Washington</td>\n",
       "      <td>Transients</td>\n",
       "      <td>Member</td>\n",
       "    </tr>\n",
       "    <tr>\n",
       "      <th>freq</th>\n",
       "      <td>31</td>\n",
       "      <td>10</td>\n",
       "      <td>10</td>\n",
       "      <td>12</td>\n",
       "      <td>8</td>\n",
       "      <td>188</td>\n",
       "      <td>918</td>\n",
       "    </tr>\n",
       "  </tbody>\n",
       "</table>\n",
       "</div>"
      ],
      "text/plain": [
       "       First Name Last Name                Email     Telephone  \\\n",
       "count        1031      1031                 1031           527   \n",
       "unique        533       769                  812           360   \n",
       "top       Michael     Jones  ljones.uw@gmail.com  206-543-9487   \n",
       "freq           31        10                   10            12   \n",
       "\n",
       "                         Company Contact Category    Role  \n",
       "count                         93             1031    1031  \n",
       "unique                        58               17       2  \n",
       "top     University of Washington       Transients  Member  \n",
       "freq                           8              188     918  "
      ]
     },
     "execution_count": 7,
     "metadata": {},
     "output_type": "execute_result"
    }
   ],
   "source": [
    "affiliations.dropna(subset=[\"Contact Category\"], inplace=True)\n",
    "affiliations.describe()"
   ]
  },
  {
   "cell_type": "code",
   "execution_count": 8,
   "metadata": {
    "ExecuteTime": {
     "end_time": "2018-01-13T15:14:57.718664",
     "start_time": "2018-01-13T15:14:57.708315"
    },
    "collapsed": false
   },
   "outputs": [],
   "source": [
    "affiliations[\"Contact Category\"] =\\\n",
    "    affiliations[\"Contact Category\"].apply(lambda x:x.strip())"
   ]
  },
  {
   "cell_type": "code",
   "execution_count": 9,
   "metadata": {
    "ExecuteTime": {
     "end_time": "2018-01-13T15:14:57.734048",
     "start_time": "2018-01-13T15:14:57.722247"
    },
    "collapsed": false
   },
   "outputs": [],
   "source": [
    "affiliations.ix[affiliations[\"Contact Category\"] == 'Stars', \"Contact Category\"] = 'Stars, Milky Way, and Local Volume'\n",
    "affiliations.ix[affiliations[\"Contact Category\"] == \n",
    "             'Milky Way and Local Volume', \"Contact Category\"] = 'Stars, Milky Way, and Local Volume'"
   ]
  },
  {
   "cell_type": "code",
   "execution_count": 10,
   "metadata": {
    "ExecuteTime": {
     "end_time": "2018-01-13T15:14:57.819331",
     "start_time": "2018-01-13T15:14:57.740391"
    },
    "collapsed": false
   },
   "outputs": [
    {
     "data": {
      "text/html": [
       "<div>\n",
       "<table border=\"1\" class=\"dataframe\">\n",
       "  <thead>\n",
       "    <tr style=\"text-align: right;\">\n",
       "      <th></th>\n",
       "      <th>First Name</th>\n",
       "      <th>Last Name</th>\n",
       "      <th>Email</th>\n",
       "      <th>Telephone</th>\n",
       "      <th>Company</th>\n",
       "      <th>Contact Category</th>\n",
       "      <th>Role</th>\n",
       "    </tr>\n",
       "  </thead>\n",
       "  <tbody>\n",
       "    <tr>\n",
       "      <th>count</th>\n",
       "      <td>912</td>\n",
       "      <td>912</td>\n",
       "      <td>912</td>\n",
       "      <td>465</td>\n",
       "      <td>78</td>\n",
       "      <td>912</td>\n",
       "      <td>912</td>\n",
       "    </tr>\n",
       "    <tr>\n",
       "      <th>unique</th>\n",
       "      <td>493</td>\n",
       "      <td>695</td>\n",
       "      <td>736</td>\n",
       "      <td>323</td>\n",
       "      <td>53</td>\n",
       "      <td>8</td>\n",
       "      <td>2</td>\n",
       "    </tr>\n",
       "    <tr>\n",
       "      <th>top</th>\n",
       "      <td>Michael</td>\n",
       "      <td>Strauss</td>\n",
       "      <td>strauss@astro.princeton.edu</td>\n",
       "      <td>206-543-9487</td>\n",
       "      <td>University of Washington</td>\n",
       "      <td>Stars, Milky Way, and Local Volume</td>\n",
       "      <td>Member</td>\n",
       "    </tr>\n",
       "    <tr>\n",
       "      <th>freq</th>\n",
       "      <td>29</td>\n",
       "      <td>9</td>\n",
       "      <td>9</td>\n",
       "      <td>10</td>\n",
       "      <td>8</td>\n",
       "      <td>254</td>\n",
       "      <td>814</td>\n",
       "    </tr>\n",
       "  </tbody>\n",
       "</table>\n",
       "</div>"
      ],
      "text/plain": [
       "       First Name Last Name                        Email     Telephone  \\\n",
       "count         912       912                          912           465   \n",
       "unique        493       695                          736           323   \n",
       "top       Michael   Strauss  strauss@astro.princeton.edu  206-543-9487   \n",
       "freq           29         9                            9            10   \n",
       "\n",
       "                         Company                    Contact Category    Role  \n",
       "count                         78                                 912     912  \n",
       "unique                        53                                   8       2  \n",
       "top     University of Washington  Stars, Milky Way, and Local Volume  Member  \n",
       "freq                           8                                 254     814  "
      ]
     },
     "execution_count": 10,
     "metadata": {},
     "output_type": "execute_result"
    }
   ],
   "source": [
    "affiliations = affiliations[~(\n",
    "        (affiliations[\"Contact Category\"] == 'Weak Lensing') | \n",
    "             (affiliations[\"Contact Category\"] == 'Supernovae'))]\n",
    "affiliations.describe()"
   ]
  },
  {
   "cell_type": "code",
   "execution_count": 11,
   "metadata": {
    "ExecuteTime": {
     "end_time": "2018-01-13T15:14:57.830901",
     "start_time": "2018-01-13T15:14:57.821792"
    },
    "collapsed": false
   },
   "outputs": [
    {
     "name": "stdout",
     "output_type": "stream",
     "text": [
      "abate@email.arizona.edu\n",
      "0    DESC\n",
      "Name: Contact Category, dtype: object\n"
     ]
    }
   ],
   "source": [
    "for em in affiliations.Email.unique()[:1]:\n",
    "    print (em) \n",
    "    print (affiliations[affiliations.Email == em][\"Contact Category\"])"
   ]
  },
  {
   "cell_type": "code",
   "execution_count": 12,
   "metadata": {
    "ExecuteTime": {
     "end_time": "2018-01-13T15:14:57.849671",
     "start_time": "2018-01-13T15:14:57.834416"
    },
    "collapsed": false
   },
   "outputs": [
    {
     "data": {
      "text/plain": [
       "(8, 8)"
      ]
     },
     "execution_count": 12,
     "metadata": {},
     "output_type": "execute_result"
    }
   ],
   "source": [
    "scmatrix = np.zeros((affiliations[\"Contact Category\"].unique().shape[0],\n",
    "                     affiliations[\"Contact Category\"].unique().shape[0]))\n",
    "scmatrix.shape"
   ]
  },
  {
   "cell_type": "code",
   "execution_count": 13,
   "metadata": {
    "ExecuteTime": {
     "end_time": "2018-01-13T15:14:57.868886",
     "start_time": "2018-01-13T15:14:57.854094"
    },
    "collapsed": false
   },
   "outputs": [
    {
     "data": {
      "text/plain": [
       "array(['DESC', 'Transients', 'Solar System', 'Strong Lensing',\n",
       "       'Stars, Milky Way, and Local Volume', 'Statistics and Informatics',\n",
       "       'AGN', 'Galaxies'], dtype=object)"
      ]
     },
     "execution_count": 13,
     "metadata": {},
     "output_type": "execute_result"
    }
   ],
   "source": [
    "affiliations[\"Contact Category\"].unique()"
   ]
  },
  {
   "cell_type": "code",
   "execution_count": 14,
   "metadata": {
    "ExecuteTime": {
     "end_time": "2018-01-13T15:14:57.892551",
     "start_time": "2018-01-13T15:14:57.872311"
    },
    "collapsed": true
   },
   "outputs": [],
   "source": [
    "scdic = {}\n",
    "for i,sc in enumerate(affiliations[\"Contact Category\"].unique()):\n",
    "    scdic[sc] = i\n",
    "    scmatrix[i,i] = len(affiliations[affiliations[\"Contact Category\"] == \n",
    "                                     sc])"
   ]
  },
  {
   "cell_type": "code",
   "execution_count": 15,
   "metadata": {
    "ExecuteTime": {
     "end_time": "2018-01-13T15:14:58.416005",
     "start_time": "2018-01-13T15:14:57.898472"
    },
    "collapsed": false,
    "run_control": {
     "marked": false
    }
   },
   "outputs": [
    {
     "data": {
      "image/png": "[encoded data removed]",
      "text/plain": [
       "<matplotlib.figure.Figure at 0x10d168d50>"
      ]
     },
     "metadata": {},
     "output_type": "display_data"
    }
   ],
   "source": [
    "fig = pl.figure()\n",
    "ax = fig.add_subplot(111)\n",
    "cax = ax.imshow(scmatrix)\n",
    "ax.set_yticks(range(8))\n",
    "ax.set_yticklabels([\"%s\"%s for s in affiliations[\"Contact Category\"].unique()])#affiliations[\"Contact Category\"].unique()\n",
    "fig.colorbar(cax);"
   ]
  },
  {
   "cell_type": "code",
   "execution_count": 16,
   "metadata": {
    "ExecuteTime": {
     "end_time": "2018-01-13T15:14:58.475087",
     "start_time": "2018-01-13T15:14:58.419256"
    },
    "collapsed": false
   },
   "outputs": [
    {
     "name": "stdout",
     "output_type": "stream",
     "text": [
      "0                 abate@email.arizona.edu\n",
      "8                       galdering@lbl.gov\n",
      "12                       swa@stanford.edu\n",
      "13      david.alonso@physics.oxford.ac.uk\n",
      "22              Pierre.Antilogus@in2p3.fr\n",
      "36                       eric@aubourg.net\n",
      "38                  avestruz@uchicago.edu\n",
      "48                balmaverde@oato.inaf.it\n",
      "60                          barth@uci.edu\n",
      "61            bartlett@apc.univ-paris7.fr\n",
      "66                   mbaumer@stanford.edu\n",
      "70            becker@astro.washington.edu\n",
      "71                  beckermr@stanford.edu\n",
      "73            becker@astro.washington.edu\n",
      "75                       beers@pa.msu.edu\n",
      "77                     ericbell@umich.edu\n",
      "93                     blanc@lal.in2p3.fr\n",
      "96                      blazek.35@osu.edu\n",
      "100                  dennis@astro.umd.edu\n",
      "103                         heb11@psu.edu\n",
      "115            jbosch@astro.princeton.edu\n",
      "124                    niel@astro.psu.edu\n",
      "130             christopher.britt@ttu.edu\n",
      "133                         sb@aao.gov.au\n",
      "140                   bigdog@illinois.edu\n",
      "150                dburke@cfa.harvard.edu\n",
      "158        roberta.carini@oa-roma.inaf.it\n",
      "162             dana.casetti@aya.yale.edu\n",
      "180             jchiang@slac.stanford.edu\n",
      "195             jessica.cisewski@yale.edu\n",
      "                      ...                \n",
      "811                gsacco@arcetri.inaf.it\n",
      "813                        asaha@noao.edu\n",
      "822             basilio.santiago@ufrgs.br\n",
      "823             sapone.domenico@gmail.com\n",
      "829                 cschafer@stat.cmu.edu\n",
      "833          sschmidt@physics.ucdavis.edu\n",
      "846              sehgal@slac.stanford.edu\n",
      "847                  useljak@berkeley.edu\n",
      "848                   sembrosk@purdue.edu\n",
      "853                       lshamir@mtu.edu\n",
      "865                        jsick@lsst.org\n",
      "878                       sivertz@bnl.gov\n",
      "879                       ctslater@uw.edu\n",
      "891                  csmith@ctio.noao.edu\n",
      "892                       smithj@apsu.edu\n",
      "898                       smotherh@uw.edu\n",
      "912         keivan.stassun@vanderbilt.edu\n",
      "918             j.p.stott@lancaster.ac.uk\n",
      "922              giulia.stratta@uniurb.it\n",
      "930           strauss@astro.princeton.edu\n",
      "938              subasavage@nofs.navy.mil\n",
      "949        john.thorstensen@dartmouth.edu\n",
      "953                     tt@astro.ucla.edu\n",
      "963             tyson@physics.ucdavis.edu\n",
      "964             tyson@physics.ucdavis.edu\n",
      "975                 giacomov@stanford.edu\n",
      "984                avdl@dark-cosmology.dk\n",
      "1000                    naw@ast.cam.ac.uk\n",
      "1011                  mwiesner@purdue.edu\n",
      "1032                   michaelw@umich.edu\n",
      "Name: Email, dtype: object\n",
      "2                           abdulla1@llnl.gov\n",
      "5                   agol@astro.washington.edu\n",
      "7                   marcel@astro.columbia.edu\n",
      "16                        anderes@ucdavis.edu\n",
      "19                         tanguita@gmail.com\n",
      "25                manuel.aravenaa@mail.udp.cl\n",
      "27                  david.ardila@jpl.nasa.gov\n",
      "32                  roberto.assef@mail.udp.cl\n",
      "47        david.ballantyne@physics.gatech.edu\n",
      "50                               martin@on.br\n",
      "68                    rbean@astro.cornell.edu\n",
      "76                keatonb@astro.as.utexas.edu\n",
      "81                    eberger@cfa.harvard.edu\n",
      "85                     D.F.Bersier@ljmu.ac.uk\n",
      "88                            fbianco@nyu.edu\n",
      "92                         blanc@lal.in2p3.fr\n",
      "95                  michael.blanton@gmail.com\n",
      "104                    bongard@lpnhe.in2p3.fr\n",
      "113                jbosch@astro.princeton.edu\n",
      "116                            mbose2@asu.edu\n",
      "119                         boutigny@in2p3.fr\n",
      "123                        niel@astro.psu.edu\n",
      "128                carrie.bridge@jpl.nasa.gov\n",
      "134                   pbrown@physics.tamu.edu\n",
      "143                           bullock@uci.edu\n",
      "146                      burchat@stanford.edu\n",
      "147                       aburgasser@ucsd.edu\n",
      "169                 chihway@slac.stanford.edu\n",
      "179                   echeu@email.arizona.edu\n",
      "184                         chornock@ohio.edu\n",
      "                        ...                  \n",
      "893                    hsmith@cfa.harvard.edu\n",
      "897                    gps@star.sr.bham.ac.uk\n",
      "904                   sonnen@physics.ucsb.edu\n",
      "908                           aspitz@lsst.org\n",
      "909                        sastanford@mac.com\n",
      "914                            jordan@psi.edu\n",
      "925               strauss@astro.princeton.edu\n",
      "929               strauss@astro.princeton.edu\n",
      "931               strauss@astro.princeton.edu\n",
      "934                        jsstuart@gmail.com\n",
      "942                    hyungusk.tak@gmail.com\n",
      "950               tissera.patriciab@gmail.com\n",
      "956               l-trouille@northwestern.edu\n",
      "959                    chad.trujillo@nau.edu \n",
      "960            ytsapras@ari.uni-heidelberg.de\n",
      "969     daniel.vandenberk@email.stvincent.edu\n",
      "973           aprajita.verma@physics.ox.ac.uk\n",
      "978                         vilalta@cs.uh.edu\n",
      "982                        vogeley@drexel.edu\n",
      "993                   l.m.walkowicz@gmail.com\n",
      "998                        jfwallin@gmail.com\n",
      "1006                       larry@stat.cmu.edu\n",
      "1012                        mwellsa@gmail.com\n",
      "1013                         wenaus@gmail.com\n",
      "1018                 ben@astro.washington.edu\n",
      "1019                            wms@stsci.edu\n",
      "1029                            wmwv@pitt.edu\n",
      "1036                        padmayf@gmail.com\n",
      "1041                   payoung@as.arizona.edu\n",
      "1050                         zentner@pitt.edu\n",
      "Name: Email, dtype: object\n",
      "3                  paul.a.abell@nasa.gov\n",
      "42                          babu@psu.edu\n",
      "52                 m.bannister@qub.ac.uk\n",
      "54                 mauro.barbieri@uda.cl\n",
      "62           bartlett@apc.univ-paris7.fr\n",
      "74               becla@slac.stanford.edu\n",
      "91                  biviano@oats.inaf.it\n",
      "109            mederic.boquien@uantof.cl\n",
      "112                   tboroson@lcogt.net\n",
      "127               M.Bremer@bristol.ac.uk\n",
      "148              daveb@slac.stanford.edu\n",
      "154             yongzhi.cai@oapd.inaf.it\n",
      "199         gclayton@fenway.phys.lsu.edu\n",
      "208             ajc@astro.washington.edu\n",
      "242             luke.j.davies@uwa.edu.au\n",
      "243                   jid@astro.cf.ac.uk\n",
      "262                       dhitals@me.com\n",
      "285            ardis@astro.princeton.edu\n",
      "295       Davide.Farnocchia@jpl.nasa.gov\n",
      "322                       lfrey@lanl.gov\n",
      "336            alessia.garofalo@unibo.it\n",
      "355                terry.girard@yale.edu\n",
      "364                      mjg@caltech.edu\n",
      "375               gris@clermont.in2p3.fr\n",
      "393                jhargis@haverford.edu\n",
      "418                      howell@noao.edu\n",
      "446                   michael@jarvis.net\n",
      "450                  jee.james@gmail.com\n",
      "460                 yanfei@kitp.ucsb.edu\n",
      "462            johns@physics.arizona.edu\n",
      "                      ...               \n",
      "745              pavlos@seas.harvard.edu\n",
      "746                        prouza@fzu.cz\n",
      "757                    mubdi@pha.jhu.edu\n",
      "759            jrajagopal@email.noao.edu\n",
      "770      nicolas.regnault@lpnhe.in2p3.fr\n",
      "810            erykoff@slac.stanford.edu\n",
      "816                  masao@sas.upenn.edu\n",
      "821                   salims@indiana.edu\n",
      "834                    eschmidt1@unl.edu\n",
      "859         ian.shipsey@physics.ox.ac.uk\n",
      "862                       jsick@lsst.org\n",
      "873                      dsilva@noao.edu\n",
      "890                   S.Smartt@qub.ac.uk\n",
      "894                 csmith@ctio.noao.edu\n",
      "899                    gsnyder@stsci.edu\n",
      "905                    soraisam@noao.edu\n",
      "915          d.t.h.steeghs@warwick.ac.uk\n",
      "932          strauss@astro.princeton.edu\n",
      "941          szkody@astro.washington.edu\n",
      "955               vtrimble@astro.umd.edu\n",
      "961     tsybych@sbhep.physics.sunysb.edu\n",
      "974                    vestrand@lanl.gov\n",
      "980                        jsv@arm.ac.uk\n",
      "1007              rwechsler@stanford.edu\n",
      "1021                   bwillman@lsst.org\n",
      "1027               wolpert@STAT.Duke.edu\n",
      "1033                    wozniak@lanl.gov\n",
      "1040                      yoachim@uw.edu\n",
      "1043            layoung@boulder.swri.edu\n",
      "1054                   zhanhu@nao.cas.cn\n",
      "Name: Email, dtype: object\n",
      "4              agol@astro.washington.edu\n",
      "6              marcel@astro.columbia.edu\n",
      "11              mallen@slac.stanford.edu\n",
      "20                    tanguita@gmail.com\n",
      "41                          babu@psu.edu\n",
      "51                mbanerji@ast.cam.ac.uk\n",
      "101         boeshaar@physics.ucdavis.edu\n",
      "125                   niel@astro.psu.edu\n",
      "132                    MBrother@uwyo.edu\n",
      "159                     JCarlin@lsst.org\n",
      "192             michele.cignoni@unipi.it\n",
      "297              cdfassnacht@ucdavis.edu\n",
      "308     giuliana.fiorentino@oabo.inaf.it\n",
      "325                 brendafrye@gmail.com\n",
      "331                  ggalaz@astro.puc.cl\n",
      "332               lluisgalbany@gmail.com\n",
      "337          gawiser@physics.rutgers.edu\n",
      "369       andrea.grazian@oa-roma.inaf.it\n",
      "411                 S.Hoenig@soton.ac.uk\n",
      "412              craighogan@uchicago.edu\n",
      "484                      mjuric@lsst.org\n",
      "501                s.kaviraj@herts.ac.uk\n",
      "514            lindsay.king@utdallas.edu\n",
      "517                      dkirkby@uci.edu\n",
      "532                     kuhlmann@anl.gov\n",
      "549                       annlee@cmu.edu\n",
      "572                  mike.lund@gmail.com\n",
      "583                      lmacri@tamu.edu\n",
      "642                   milani@dm.unipi.it\n",
      "702                    olivier1@llnl.gov\n",
      "758                 raiteri@oato.inaf.it\n",
      "773                      arest@stsci.edu\n",
      "799            roodman@slac.stanford.edu\n",
      "911        keivan.stassun@vanderbilt.edu\n",
      "985               avdl@dark-cosmology.dk\n",
      "1002             wiley@phys.columbia.edu\n",
      "1028                       wmwv@pitt.edu\n",
      "1052                   zhanhu@nao.cas.cn\n",
      "Name: Email, dtype: object\n",
      "14           javier.alonso@uantof.cl\n",
      "15           javier.alonso@uantof.cl\n",
      "28            maria.argudo@uantof.cl\n",
      "29              lee@ipac.caltech.edu\n",
      "55          djbard@slac.stanford.edu\n",
      "56          djbard@slac.stanford.edu\n",
      "57                   barrau@in2p3.fr\n",
      "58              luis.barrera@umce.cl\n",
      "79                    ecbellm@uw.edu\n",
      "80              vasily@ast.cam.ac.uk\n",
      "82           garyb@physics.upenn.edu\n",
      "83                  jpbernst@anl.gov\n",
      "86       marc.betoule@lpnhe.in2p3.fr\n",
      "87                   fbianco@nyu.edu\n",
      "105           bongard@lpnhe.in2p3.fr\n",
      "106         sbonito@astropa.unipa.it\n",
      "107         sbonito@astropa.unipa.it\n",
      "108               bono@roma2.infn.it\n",
      "110             kirk.borne@gmail.com\n",
      "111             kirk.borne@gmail.com\n",
      "117           botticella@na.astro.it\n",
      "118      aboucaud@apc.univ-paris7.fr\n",
      "141                 budavari@jhu.edu\n",
      "142             camargo@linea.gov.br\n",
      "155                calamida@noao.edu\n",
      "156      tristan.cantat@oapd.inaf.it\n",
      "160             maribel@oato.inaf.it\n",
      "161            mcarras2@illinois.edu\n",
      "165            mcatelan@astro.puc.cl\n",
      "166        stefano.cavuoti@gmail.com\n",
      "                    ...             \n",
      "923      strauss@astro.princeton.edu\n",
      "924      strauss@astro.princeton.edu\n",
      "927      strauss@astro.princeton.edu\n",
      "936             stubbs@g.harvard.edu\n",
      "937             stubbs@g.harvard.edu\n",
      "939           m.sullivan@soton.ac.uk\n",
      "940            donsweeney4@gmail.com\n",
      "966                meg.urry@yale.edu\n",
      "967           stfn.valenti@gmail.com\n",
      "988          l.m.walkowicz@gmail.com\n",
      "989          l.m.walkowicz@gmail.com\n",
      "992          l.m.walkowicz@gmail.com\n",
      "997        wall@astro.washington.edu\n",
      "1004                 wang@nhn.ou.edu\n",
      "1005           wang@physics.tamu.edu\n",
      "1014           norbertw@stanford.edu\n",
      "1015                   aawest@bu.edu\n",
      "1023    dwittman@physics.ucdavis.edu\n",
      "1024    dwittman@physics.ucdavis.edu\n",
      "1030                   wmwv@pitt.edu\n",
      "1031                   wmwv@pitt.edu\n",
      "1037         sheng.yang@oapd.inaf.it\n",
      "1038                 qye@caltech.edu\n",
      "1045            idit.zehavi@case.edu\n",
      "1046                zentner@pitt.edu\n",
      "1047                zentner@pitt.edu\n",
      "1048                zentner@pitt.edu\n",
      "1056               gbzhao@nao.cas.cn\n",
      "1057             zzheng@astro.puc.cl\n",
      "1059            adizolotov@gmail.com\n",
      "Name: Email, dtype: object\n",
      "17             anderson@astro.washington.edu\n",
      "44                     StephenBailey@lbl.gov\n",
      "46                    balland@lpnhe.in2p3.fr\n",
      "78                fabio.bellagamba2@unibo.it\n",
      "94                         rdb3@stanford.edu\n",
      "122                   akbradshaw@ucdavis.edu\n",
      "135                         tbrown@lcogt.net\n",
      "151                 burninghamster@gmail.com\n",
      "153                   gcabrera@dim.uchile.cl\n",
      "164                    mcatelan@astro.puc.cl\n",
      "167                      brad.cenko@nasa.gov\n",
      "168                    jchaname@astro.puc.cl\n",
      "194                cinabro@physics.wayne.edu\n",
      "198                         cclaver@lsst.org\n",
      "219                 cordes@astro.cornell.edu\n",
      "246                    anna.queiroz@ufrgs.br\n",
      "307                          finley@fnal.gov\n",
      "328                     brendafrye@gmail.com\n",
      "329                           fryer@lanl.gov\n",
      "341                    dgeisler@astroudec.cl\n",
      "365                          mgranvik@iki.fi\n",
      "391         mhammergren@adlerplanetarium.org\n",
      "417                         qrs@uchicago.edu\n",
      "421     markus.hundertmark@uni-heidelberg.de\n",
      "423                      c.inserra@qub.ac.uk\n",
      "436              ivezic@astro.washington.edu\n",
      "442                  bjain@physics.upenn.edu\n",
      "490                           skahn@lsst.org\n",
      "500                vishal.kasliwal@gmail.com\n",
      "503                        msk@astro.umd.edu\n",
      "                        ...                 \n",
      "683                    jng@slac.stanford.edu\n",
      "701                        olivier1@llnl.gov\n",
      "709              reynald.pain@lpnhe.in2p3.fr\n",
      "710               gpalmaquilod@ing.uchile.cl\n",
      "711      christopher.pankow@northwestern.edu\n",
      "715                     steven.parsons@uv.cl\n",
      "717               matthewjohnpayne@gmail.com\n",
      "740                          kap146@pitt.edu\n",
      "756                  darin_ragozzine@byu.edu\n",
      "766         umaa.d.rebbapragada@jpl.nasa.gov\n",
      "767         umaa.d.rebbapragada@jpl.nasa.gov\n",
      "780                     joeyrichar@gmail.com\n",
      "784                         ridgway@noao.edu\n",
      "827                 evan.scannapieco@asu.edu\n",
      "830                    tas@slac.stanford.edu\n",
      "835             sschmidt@physics.ucdavis.edu\n",
      "839                 mschwamb.astro@gmail.com\n",
      "857                     sheppard@dtm.ciw.edu\n",
      "875                 nms@astro.washington.edu\n",
      "889                             anze@bnl.gov\n",
      "920                       strader@pa.msu.edu\n",
      "944                       ntejos@ucolick.org\n",
      "945                        jtheiler@lanl.gov\n",
      "948              thorman@physics.ucdavis.edu\n",
      "970                 lvenuti@astropa.unipa.it\n",
      "981                     kvivas@ctio.noao.edu\n",
      "990                  l.m.walkowicz@gmail.com\n",
      "1008                  rwechsler@stanford.edu\n",
      "1026            dwittman@physics.ucdavis.edu\n",
      "1039                          yoachim@uw.edu\n",
      "Name: Email, dtype: object\n",
      "18        anderson@astro.washington.edu\n",
      "34               pierre.astier@in2p3.fr\n",
      "49            eabaltz@slac.stanford.edu\n",
      "64                        gbass@gmu.edu\n",
      "69              rbean@astro.cornell.edu\n",
      "136                  mbrown@caltech.edu\n",
      "144                burchat@stanford.edu\n",
      "152            nathaniel.butler@asu.edu\n",
      "193           cinabro@physics.wayne.edu\n",
      "214                    m.cooper@uci.edu\n",
      "245             will@dawsonresearch.com\n",
      "253          alis.j.deason@durham.ac.uk\n",
      "286                       mxe17@psu.edu\n",
      "326                brendafrye@gmail.com\n",
      "327                brendafrye@gmail.com\n",
      "333                p.gandhi@soton.ac.uk\n",
      "399                        hebb@hws.edu\n",
      "420               mhuber@ifa.hawaii.edu\n",
      "424             irwin@slac.stanford.edu\n",
      "470                 ljones.uw@gmail.com\n",
      "495              vicky@northwestern.edu\n",
      "511                       agkim@lbl.gov\n",
      "523                   kknuth@albany.edu\n",
      "551             a.j.levan@warwick.ac.uk\n",
      "584                     lmacri@tamu.edu\n",
      "615                 emason@oats.inaf.it\n",
      "617                   matheson@noao.edu\n",
      "623                   mm21@columbia.edu\n",
      "634                    rmennick@udec.cl\n",
      "666                rmunoz@das.uchile.cl\n",
      "670         ilaria.musella@oacn.inaf.it\n",
      "699               elle.ojala@gmail.com \n",
      "720            joshua.pepper@lehigh.edu\n",
      "721            joshua.pepper@lehigh.edu\n",
      "763         n.rattenbury@auckland.ac.nz\n",
      "779                   mtr@astro.psu.edu\n",
      "831              rafe@slac.stanford.edu\n",
      "849           mauro.sereno@oabo.inaf.it\n",
      "887                     ctslater@uw.edu\n",
      "919                  strader@pa.msu.edu\n",
      "952                   tt@astro.ucla.edu\n",
      "968                waerbeke@phas.ubc.ca\n",
      "972     aprajita.verma@physics.ox.ac.uk\n",
      "983               kvolk@lpl.arizona.edu\n",
      "1010                 bjw@as.arizona.edu\n",
      "1016             matthewwiesner@aol.com\n",
      "1042                d.r.young@qub.ac.uk\n",
      "1058              mzoccali@astro.puc.cl\n",
      "Name: Email, dtype: object\n",
      "21                  ansari@lal.in2p3.fr\n",
      "26                     arcavi@gmail.com\n",
      "30               darnett@as.arizona.edu\n",
      "40        michael.aye@lasp.colorado.edu\n",
      "53                    rbarba@userena.cl\n",
      "63          bartlett@apc.univ-paris7.fr\n",
      "65                  fbauer@astro.puc.cl\n",
      "84              garyb@physics.upenn.edu\n",
      "98                       rblum@noao.edu\n",
      "102               bolin.astro@gmail.com\n",
      "120     rebecca.bowler@physics.ox.ac.uk\n",
      "121          marusa@physics.ucdavis.edu\n",
      "131        enzo.brocato@oa-roma.inaf.it\n",
      "137        marina.brozovic@jpl.nasa.gov\n",
      "138                 bigdog@illinois.edu\n",
      "145                burchat@stanford.edu\n",
      "176          chernoff@astro.cornell.edu\n",
      "183               lchomiuk@aoc.nrao.edu\n",
      "234               ldacosta@linea.gov.br\n",
      "236                 dallora@na.astro.it\n",
      "241       roger.davies@physics.ox.ac.uk\n",
      "272                   Dodelson@fnal.gov\n",
      "273        pdoherty@physics.harvard.edu\n",
      "274           mdon849@aucklanduni.ac.nz\n",
      "279                   kadrlica@fnal.gov\n",
      "294                  j.farihi@ucl.ac.uk\n",
      "296             cdfassnacht@ucdavis.edu\n",
      "300                   edf@astro.psu.edu\n",
      "301             feinstein@cppm.in2p3.fr\n",
      "317                        dfox@psu.edu\n",
      "                     ...               \n",
      "771              reil@slac.stanford.edu\n",
      "772                        reiss@uw.edu\n",
      "778              gtr@physics.drexel.edu\n",
      "790                      brant@ucsc.edu\n",
      "796                      roman@dfuls.cl\n",
      "798           mauro.roncarelli@unibo.it\n",
      "809              rutkowsk@astro.umn.edu\n",
      "815                 rsaito@astro.puc.cl\n",
      "850            bsesar@astro.caltech.edu\n",
      "858        ian.shipsey@physics.ox.ac.uk\n",
      "860          shmakova@slac.stanford.edu\n",
      "868                      jsick@lsst.org\n",
      "876      jsimon@obs.carnegiescience.edu\n",
      "900                      jsobeck@uw.edu\n",
      "901               sokoloff@email.uc.edu\n",
      "910                  stankuspw@ornl.gov\n",
      "921                  strader@pa.msu.edu\n",
      "928         strauss@astro.princeton.edu\n",
      "935                stubbs@g.harvard.edu\n",
      "951               etreiste@astro.puc.cl\n",
      "958                 troxel@utdallas.edu\n",
      "965           tyson@physics.ucdavis.edu\n",
      "987             l.m.walkowicz@gmail.com\n",
      "1003                    wang@nhn.ou.edu\n",
      "1020               gmwilliger@gmail.com\n",
      "1022       dwittman@physics.ucdavis.edu\n",
      "1034              awright3@stanford.edu\n",
      "1044                   zauderer@nyu.edu\n",
      "1049                   zentner@pitt.edu\n",
      "1051                   zentner@pitt.edu\n",
      "Name: Email, dtype: object\n"
     ]
    }
   ],
   "source": [
    "for sc in affiliations[\"Contact Category\"].unique():\n",
    "    print(affiliations[affiliations[\"Contact Category\"] == sc].Email)"
   ]
  },
  {
   "cell_type": "code",
   "execution_count": 17,
   "metadata": {
    "ExecuteTime": {
     "end_time": "2018-01-13T15:14:59.079788",
     "start_time": "2018-01-13T15:14:58.480022"
    },
    "collapsed": false
   },
   "outputs": [
    {
     "name": "stdout",
     "output_type": "stream",
     "text": [
      "agol@astro.washington.edu\n",
      "marcel@astro.columbia.edu\n",
      "javier.alonso@uantof.cl\n",
      "anderson@astro.washington.edu\n",
      "tanguita@gmail.com\n",
      "babu@psu.edu\n",
      "djbard@slac.stanford.edu\n",
      "bartlett@apc.univ-paris7.fr\n",
      "rbean@astro.cornell.edu\n",
      "becker@astro.washington.edu\n",
      "garyb@physics.upenn.edu\n",
      "fbianco@nyu.edu\n",
      "blanc@lal.in2p3.fr\n",
      "bongard@lpnhe.in2p3.fr\n",
      "sbonito@astropa.unipa.it\n",
      "kirk.borne@gmail.com\n",
      "jbosch@astro.princeton.edu\n",
      "niel@astro.psu.edu\n",
      "bigdog@illinois.edu\n",
      "burchat@stanford.edu\n",
      "mcatelan@astro.puc.cl\n",
      "chartasg@cofc.edu\n",
      "chernoff@astro.cornell.edu\n",
      "echeu@email.arizona.edu\n",
      "ciardi@ipac.caltech.edu\n",
      "cinabro@physics.wayne.edu\n",
      "cclaver@lsst.org\n",
      "ajc@astro.washington.edu\n",
      "kcook@noao.edu\n",
      "acooray@uci.edu\n",
      "kevin.covey@wwu.edu\n",
      "cui@purdue.edu\n",
      "scottvalscott@gmail.com\n",
      "digel@slac.stanford.edu\n",
      "cdfassnacht@ucdavis.edu\n",
      "edf@astro.psu.edu\n",
      "ferguson@roe.ac.uk\n",
      "giuliana.fiorentino@oabo.inaf.it\n",
      "frieman@fnal.gov\n",
      "brendafrye@gmail.com\n",
      "gawiser@physics.rutgers.edu\n",
      "dkg@slac.stanford.edu\n",
      "dgold@berkeley.edu\n",
      "habib@anl.gov\n",
      "zoltan@astro.columbia.edu\n",
      "slhawley@uw.edu\n",
      "hebb@hws.edu\n",
      "irwin@slac.stanford.edu\n",
      "mishak@utdallas.edu\n",
      "ivezic@astro.washington.edu\n",
      "bjain@physics.upenn.edu\n",
      "jee.james@gmail.com\n",
      "jgj@h-bar.com\n",
      "saurabh@physics.rutgers.edu\n",
      "ljones.uw@gmail.com\n",
      "mjuric@lsst.org\n",
      "skahn@lsst.org\n",
      "dkirkby@uci.edu\n",
      "krughoff@lsst.org\n",
      "kuhlmann@anl.gov\n",
      "rhl@astro.princeton.edu\n",
      "lmacri@tamu.edu\n",
      "aam@astro.caltech.edu\n",
      "rmandelb@andrew.cmu.edu\n",
      "marcella.marconi@oacn.inaf.it\n",
      "vera.margoniner@gmail.com\n",
      "dr.phil.marshall@gmail.com\n",
      "matheson@noao.edu\n",
      "mm21@columbia.edu\n",
      "jason.mcewen@ucl.ac.uk\n",
      "rmennick@udec.cl\n",
      "moniez@lal.in2p3.fr\n",
      "napolita@na.astro.it\n",
      "janewman@pitt.edu\n",
      "olivier1@llnl.gov\n",
      "joshua.pepper@lehigh.edu\n",
      "peters11@purdue.edu\n",
      "pignago@gmail.com\n",
      "peterplavchan@missouristate.edu\n",
      "aprsa@villanova.edu\n",
      "andrew.f.ptak@nasa.gov\n",
      "arasmus@slac.stanford.edu\n",
      "umaa.d.rebbapragada@jpl.nasa.gov\n",
      "nicolas.regnault@lpnhe.in2p3.fr\n",
      "ridgway@noao.edu\n",
      "roman@dfuls.cl\n",
      "roodman@slac.stanford.edu\n",
      "masao@sas.upenn.edu\n",
      "sschmidt@physics.ucdavis.edu\n",
      "ryan.scranton@gmail.com\n",
      "seaman@lpl.arizona.edu\n",
      "ian.shipsey@physics.ox.ac.uk\n",
      "jsick@lsst.org\n",
      "nms@astro.washington.edu\n",
      "ctslater@uw.edu\n",
      "csmith@ctio.noao.edu\n",
      "dns@astro.princeton.edu\n",
      "keivan.stassun@vanderbilt.edu\n",
      "strader@pa.msu.edu\n",
      "strauss@astro.princeton.edu\n",
      "stubbs@g.harvard.edu\n",
      "tt@astro.ucla.edu\n",
      "tyson@physics.ucdavis.edu\n",
      "aprajita.verma@physics.ox.ac.uk\n",
      "avdl@dark-cosmology.dk\n",
      "l.m.walkowicz@gmail.com\n",
      "wang@nhn.ou.edu\n",
      "rwechsler@stanford.edu\n",
      "dwittman@physics.ucdavis.edu\n",
      "wmwv@pitt.edu\n",
      "yoachim@uw.edu\n",
      "zentner@pitt.edu\n",
      "zhanhu@nao.cas.cn\n"
     ]
    }
   ],
   "source": [
    "for em in affiliations[\"Email\"].unique():\n",
    "    affhere = affiliations[affiliations[\"Email\"] == em]\n",
    "    if(affhere.shape[0] > 1):\n",
    "        print(em)\n",
    "        for pair in itertools.combinations(affhere[\"Contact Category\"].values, \n",
    "                                      2):\n",
    "            scmatrix[scdic[pair[0]], scdic[pair[1]]] += 1\n",
    "            scmatrix[scdic[pair[1]], scdic[pair[0]]] = scmatrix[scdic[pair[0]], scdic[pair[1]]]"
   ]
  },
  {
   "cell_type": "code",
   "execution_count": 18,
   "metadata": {
    "ExecuteTime": {
     "end_time": "2018-01-13T15:14:59.481699",
     "start_time": "2018-01-13T15:14:59.084790"
    },
    "collapsed": false
   },
   "outputs": [
    {
     "data": {
      "image/png": "[encoded data removed]",
      "text/plain": [
       "<matplotlib.figure.Figure at 0x10d232bd0>"
      ]
     },
     "metadata": {},
     "output_type": "display_data"
    }
   ],
   "source": [
    "fig = pl.figure()\n",
    "ax = fig.add_subplot(111)\n",
    "cax = ax.imshow(scmatrix)\n",
    "ax.set_yticks(range(8))\n",
    "ax.set_yticklabels([\"%s\"%s for s in affiliations[\"Contact Category\"].unique()])#affiliations[\"Contact Category\"].unique()\n",
    "fig.colorbar(cax);"
   ]
  },
  {
   "cell_type": "code",
   "execution_count": 28,
   "metadata": {
    "ExecuteTime": {
     "end_time": "2018-01-13T16:10:14.800948",
     "start_time": "2018-01-13T16:10:14.788321"
    },
    "collapsed": false
   },
   "outputs": [],
   "source": [
    "foutaff = open(\"data/affiliations.csv\", \"w\")\n",
    "foutnums = open(\"data/affiliationsNumbers.csv\", \"w\")\n",
    "foutnums.write(\"subg,tot\\n\")\n",
    "foutaff.write(\"word1,word2,count\\n\")\n",
    "for i,sc1 in enumerate(scdic.keys()):\n",
    "    for sc2 in scdic.keys():\n",
    "        if sc1 == sc2:\n",
    "            foutaff.write('\"' + sc1 + '\",\"' + sc1 +'\",0\\n')\n",
    "            foutnums.write(sc1 + ',%d\\n'%int(scmatrix[scdic[sc1], scdic[sc1]]))\n",
    "        else:\n",
    "            foutaff.write('\"' + sc1 + '\",\"' + sc2 +'\",%d\\n'%int(scmatrix[scdic[sc1], scdic[sc2]]))\n",
    "foutnums.write(\"totalaff,%d\\n\"%len(affiliations))\n",
    "foutnums.write(\"totalmem,%d\\n\"%len(affiliations[\"Email\"].unique()))"
   ]
  },
  {
   "cell_type": "code",
   "execution_count": 29,
   "metadata": {
    "ExecuteTime": {
     "end_time": "2018-01-13T16:10:15.372832",
     "start_time": "2018-01-13T16:10:15.367381"
    },
    "collapsed": false
   },
   "outputs": [],
   "source": [
    "foutaff.close()\n",
    "foutnums.close()"
   ]
  },
  {
   "cell_type": "code",
   "execution_count": null,
   "metadata": {
    "collapsed": true
   },
   "outputs": [],
   "source": []
  }
 ],
 "metadata": {
  "kernelspec": {
   "display_name": "Python 3",
   "language": "python",
   "name": "python3"
  },
  "language_info": {
   "codemirror_mode": {
    "name": "ipython",
    "version": 2
   },
   "file_extension": ".py",
   "mimetype": "text/x-python",
   "name": "python",
   "nbconvert_exporter": "python",
   "pygments_lexer": "ipython2",
   "version": "2.7.12"
  },
  "toc": {
   "colors": {
    "hover_highlight": "#DAA520",
    "running_highlight": "#FF0000",
    "selected_highlight": "#FFD700"
   },
   "moveMenuLeft": true,
   "nav_menu": {
    "height": "12px",
    "width": "252px"
   },
   "navigate_menu": true,
   "number_sections": true,
   "sideBar": true,
   "threshold": 4,
   "toc_cell": false,
   "toc_section_display": "block",
   "toc_window_display": false
  }
 },
 "nbformat": 4,
 "nbformat_minor": 1
}
